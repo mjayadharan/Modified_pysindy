{
 "cells": [
  {
   "cell_type": "code",
   "execution_count": 1,
   "id": "c1154138-7f57-4edf-aaa1-83ef559134c8",
   "metadata": {},
   "outputs": [
    {
     "name": "stdout",
     "output_type": "stream",
     "text": [
      "/Users/manujayadharan/git_repos/pysindy\n"
     ]
    }
   ],
   "source": [
    "!pwd"
   ]
  },
  {
   "cell_type": "code",
   "execution_count": 2,
   "id": "125ff3b9-0527-4ca8-a720-cade99827307",
   "metadata": {},
   "outputs": [
    {
     "name": "stdout",
     "output_type": "stream",
     "text": [
      "it is here\n"
     ]
    }
   ],
   "source": [
    "import pysindy"
   ]
  },
  {
   "cell_type": "code",
   "execution_count": null,
   "id": "1f2b204b-104f-45d7-a7c9-b80b88f0b0d9",
   "metadata": {},
   "outputs": [],
   "source": []
  }
 ],
 "metadata": {
  "kernelspec": {
   "display_name": "Python 3 (ipykernel)",
   "language": "python",
   "name": "python3"
  },
  "language_info": {
   "codemirror_mode": {
    "name": "ipython",
    "version": 3
   },
   "file_extension": ".py",
   "mimetype": "text/x-python",
   "name": "python",
   "nbconvert_exporter": "python",
   "pygments_lexer": "ipython3",
   "version": "3.11.5"
  }
 },
 "nbformat": 4,
 "nbformat_minor": 5
}
