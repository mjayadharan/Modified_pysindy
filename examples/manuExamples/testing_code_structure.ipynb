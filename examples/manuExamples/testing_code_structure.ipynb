{
 "cells": [
  {
   "cell_type": "markdown",
   "id": "60fc3271-3703-4730-9b02-32177233ccb5",
   "metadata": {
    "ExecuteTime": {
     "end_time": "2023-10-13T18:38:34.956304Z",
     "start_time": "2023-10-13T18:38:33.452647Z"
    }
   },
   "source": [
    "import pysindy"
   ]
  },
  {
   "cell_type": "markdown",
   "id": "32c89c63-57b2-430b-b99a-9d12180fc768",
   "metadata": {
    "ExecuteTime": {
     "end_time": "2023-10-24T19:55:36.757981Z",
     "start_time": "2023-10-24T19:55:36.638562Z"
    },
    "collapsed": false
   },
   "source": [
    "!conda install"
   ]
  },
  {
   "cell_type": "markdown",
   "id": "14ef79de-51ab-4e0d-b289-56b865682d86",
   "metadata": {
    "ExecuteTime": {
     "end_time": "2023-10-24T19:56:22.421030Z",
     "start_time": "2023-10-24T19:56:22.301358Z"
    },
    "collapsed": false
   },
   "source": [
    "!which python"
   ]
  },
  {
   "cell_type": "markdown",
   "id": "b98759c9-854b-40e0-b300-1f785a535778",
   "metadata": {
    "ExecuteTime": {
     "end_time": "2023-10-20T01:27:45.906118Z",
     "start_time": "2023-10-20T01:27:45.904726Z"
    },
    "collapsed": false
   },
   "source": [
    "    # import numpy as np\n",
    "    # from scipy.integrate import odeint\n",
    "    # from pysindy import SINDy\n",
    "    # from pysindy.optimizers import STLSQ\n",
    "    # lorenz = lambda z,t : [10*(z[1] - z[0]),\n",
    "    #                         z[0]*(28 - z[2]) - z[1],\n",
    "    #                         z[0]*z[1] - 8/3*z[2]]\n",
    "    # t = np.arange(0,2,.002)\n",
    "    # x = odeint(lorenz, [-8,8,27], t)\n",
    "    # opt = STLSQ(threshold=0.1, alpha=.5)\n",
    "    # model = SINDy(optimizer=opt)\n",
    "    # model.fit(x, t=t[1]-t[0])\n",
    "    # model.print()"
   ]
  },
  {
   "cell_type": "code",
   "execution_count": 1,
   "id": "44102c8b-7cf5-412d-a32f-91b15414fe03",
   "metadata": {},
   "outputs": [
    {
     "name": "stdout",
     "output_type": "stream",
     "text": [
      "....importing local pysindy copy....\n"
     ]
    }
   ],
   "source": [
    "import sys\n",
    "sys.path.insert(0,\"/Users/manujayadharan/git_repos/pysindy\")\n",
    "\n",
    "\n",
    "\n",
    "import pysindy\n",
    "import numpy as np\n",
    "from scipy.integrate import odeint\n",
    "from pysindy import SINDy\n",
    "from pysindy.optimizers import STLSQ\n",
    "from sklearn.metrics import mean_squared_error"
   ]
  },
  {
   "cell_type": "code",
   "execution_count": 1,
   "id": "1706bddac860fa30",
   "metadata": {
    "ExecuteTime": {
     "end_time": "2023-10-20T03:09:29.896524Z",
     "start_time": "2023-10-20T03:09:29.866994Z"
    },
    "collapsed": false
   },
   "outputs": [
    {
     "name": "stdout",
     "output_type": "stream",
     "text": [
      "....importing local pysindy copy....\n",
      "STLSQ optimizer....\n",
      "(x0)' = 0.212 1 + -9.970 x0 + 9.978 x1\n",
      "(x1)' = -3.770 1 + 26.980 x0 + -0.206 x0^2 + -0.906 x0 x2\n",
      "(x2)' = -4.295 1 + 0.222 x0 + 0.376 x1 + -2.518 x2 + 0.957 x0 x1\n"
     ]
    },
    {
     "ename": "TypeError",
     "evalue": "object of type 'float' has no len()",
     "output_type": "error",
     "traceback": [
      "\u001B[0;31m---------------------------------------------------------------------------\u001B[0m",
      "\u001B[0;31mTypeError\u001B[0m                                 Traceback (most recent call last)",
      "Cell \u001B[0;32mIn[1], line 32\u001B[0m\n\u001B[1;32m     30\u001B[0m opt_adam \u001B[38;5;241m=\u001B[39m ps\u001B[38;5;241m.\u001B[39moptimizers\u001B[38;5;241m.\u001B[39madam_STLSQ(threshold\u001B[38;5;241m=\u001B[39mthreshold, alpha\u001B[38;5;241m=\u001B[39m\u001B[38;5;241m.5\u001B[39m, mom_init_iter\u001B[38;5;241m=\u001B[39m\u001B[38;5;241m1\u001B[39m, mom_memory\u001B[38;5;241m=\u001B[39m\u001B[38;5;241m0.1\u001B[39m, use_mom\u001B[38;5;241m=\u001B[39m\u001B[38;5;28;01mTrue\u001B[39;00m, mom_inplace\u001B[38;5;241m=\u001B[39m\u001B[38;5;28;01mTrue\u001B[39;00m,)\n\u001B[1;32m     31\u001B[0m model_2 \u001B[38;5;241m=\u001B[39m SINDy(opt_adam)\n\u001B[0;32m---> 32\u001B[0m \u001B[43mmodel_2\u001B[49m\u001B[38;5;241;43m.\u001B[39;49m\u001B[43mfit\u001B[49m\u001B[43m(\u001B[49m\u001B[43mx\u001B[49m\u001B[43m,\u001B[49m\u001B[43m \u001B[49m\u001B[43mt\u001B[49m\u001B[38;5;241;43m=\u001B[39;49m\u001B[43mt\u001B[49m\u001B[43m[\u001B[49m\u001B[38;5;241;43m1\u001B[39;49m\u001B[43m]\u001B[49m\u001B[38;5;241;43m-\u001B[39;49m\u001B[43mt\u001B[49m\u001B[43m[\u001B[49m\u001B[38;5;241;43m0\u001B[39;49m\u001B[43m]\u001B[49m\u001B[43m)\u001B[49m\n\u001B[1;32m     33\u001B[0m \u001B[38;5;28mprint\u001B[39m(\u001B[38;5;124m\"\u001B[39m\u001B[38;5;124m adam-STLSQ optimizer....\u001B[39m\u001B[38;5;124m\"\u001B[39m)\n\u001B[1;32m     37\u001B[0m model_2\u001B[38;5;241m.\u001B[39mprint()\n",
      "File \u001B[0;32m~/git_repos/pysindy/pysindy/pysindy.py:259\u001B[0m, in \u001B[0;36mSINDy.fit\u001B[0;34m(self, x, t, x_dot, u)\u001B[0m\n\u001B[1;32m    257\u001B[0m x_dot \u001B[38;5;241m=\u001B[39m concat_sample_axis(x_dot)\n\u001B[1;32m    258\u001B[0m \u001B[38;5;28mself\u001B[39m\u001B[38;5;241m.\u001B[39mmodel \u001B[38;5;241m=\u001B[39m Pipeline(steps)\n\u001B[0;32m--> 259\u001B[0m \u001B[38;5;28;43mself\u001B[39;49m\u001B[38;5;241;43m.\u001B[39;49m\u001B[43mmodel\u001B[49m\u001B[38;5;241;43m.\u001B[39;49m\u001B[43mfit\u001B[49m\u001B[43m(\u001B[49m\u001B[43mx\u001B[49m\u001B[43m,\u001B[49m\u001B[43m \u001B[49m\u001B[43mx_dot\u001B[49m\u001B[43m)\u001B[49m\n\u001B[1;32m    261\u001B[0m \u001B[38;5;28mself\u001B[39m\u001B[38;5;241m.\u001B[39mn_features_in_ \u001B[38;5;241m=\u001B[39m \u001B[38;5;28mself\u001B[39m\u001B[38;5;241m.\u001B[39mfeature_library\u001B[38;5;241m.\u001B[39mn_features_in_\n\u001B[1;32m    262\u001B[0m \u001B[38;5;28mself\u001B[39m\u001B[38;5;241m.\u001B[39mn_output_features_ \u001B[38;5;241m=\u001B[39m \u001B[38;5;28mself\u001B[39m\u001B[38;5;241m.\u001B[39mfeature_library\u001B[38;5;241m.\u001B[39mn_output_features_\n",
      "File \u001B[0;32m~/opt/anaconda3/envs/pysindy_env/lib/python3.11/site-packages/sklearn/base.py:1152\u001B[0m, in \u001B[0;36m_fit_context.<locals>.decorator.<locals>.wrapper\u001B[0;34m(estimator, *args, **kwargs)\u001B[0m\n\u001B[1;32m   1145\u001B[0m     estimator\u001B[38;5;241m.\u001B[39m_validate_params()\n\u001B[1;32m   1147\u001B[0m \u001B[38;5;28;01mwith\u001B[39;00m config_context(\n\u001B[1;32m   1148\u001B[0m     skip_parameter_validation\u001B[38;5;241m=\u001B[39m(\n\u001B[1;32m   1149\u001B[0m         prefer_skip_nested_validation \u001B[38;5;129;01mor\u001B[39;00m global_skip_validation\n\u001B[1;32m   1150\u001B[0m     )\n\u001B[1;32m   1151\u001B[0m ):\n\u001B[0;32m-> 1152\u001B[0m     \u001B[38;5;28;01mreturn\u001B[39;00m \u001B[43mfit_method\u001B[49m\u001B[43m(\u001B[49m\u001B[43mestimator\u001B[49m\u001B[43m,\u001B[49m\u001B[43m \u001B[49m\u001B[38;5;241;43m*\u001B[39;49m\u001B[43margs\u001B[49m\u001B[43m,\u001B[49m\u001B[43m \u001B[49m\u001B[38;5;241;43m*\u001B[39;49m\u001B[38;5;241;43m*\u001B[39;49m\u001B[43mkwargs\u001B[49m\u001B[43m)\u001B[49m\n",
      "File \u001B[0;32m~/opt/anaconda3/envs/pysindy_env/lib/python3.11/site-packages/sklearn/pipeline.py:427\u001B[0m, in \u001B[0;36mPipeline.fit\u001B[0;34m(self, X, y, **fit_params)\u001B[0m\n\u001B[1;32m    425\u001B[0m     \u001B[38;5;28;01mif\u001B[39;00m \u001B[38;5;28mself\u001B[39m\u001B[38;5;241m.\u001B[39m_final_estimator \u001B[38;5;241m!=\u001B[39m \u001B[38;5;124m\"\u001B[39m\u001B[38;5;124mpassthrough\u001B[39m\u001B[38;5;124m\"\u001B[39m:\n\u001B[1;32m    426\u001B[0m         fit_params_last_step \u001B[38;5;241m=\u001B[39m fit_params_steps[\u001B[38;5;28mself\u001B[39m\u001B[38;5;241m.\u001B[39msteps[\u001B[38;5;241m-\u001B[39m\u001B[38;5;241m1\u001B[39m][\u001B[38;5;241m0\u001B[39m]]\n\u001B[0;32m--> 427\u001B[0m         \u001B[38;5;28;43mself\u001B[39;49m\u001B[38;5;241;43m.\u001B[39;49m\u001B[43m_final_estimator\u001B[49m\u001B[38;5;241;43m.\u001B[39;49m\u001B[43mfit\u001B[49m\u001B[43m(\u001B[49m\u001B[43mXt\u001B[49m\u001B[43m,\u001B[49m\u001B[43m \u001B[49m\u001B[43my\u001B[49m\u001B[43m,\u001B[49m\u001B[43m \u001B[49m\u001B[38;5;241;43m*\u001B[39;49m\u001B[38;5;241;43m*\u001B[39;49m\u001B[43mfit_params_last_step\u001B[49m\u001B[43m)\u001B[49m\n\u001B[1;32m    429\u001B[0m \u001B[38;5;28;01mreturn\u001B[39;00m \u001B[38;5;28mself\u001B[39m\n",
      "File \u001B[0;32m~/git_repos/pysindy/pysindy/optimizers/base.py:190\u001B[0m, in \u001B[0;36mBaseOptimizer.fit\u001B[0;34m(self, x_, y, sample_weight, **reduce_kws)\u001B[0m\n\u001B[1;32m    186\u001B[0m \u001B[38;5;28mself\u001B[39m\u001B[38;5;241m.\u001B[39mhistory_ \u001B[38;5;241m=\u001B[39m [\u001B[38;5;28mself\u001B[39m\u001B[38;5;241m.\u001B[39mcoef_]\n\u001B[1;32m    188\u001B[0m x_normed \u001B[38;5;241m=\u001B[39m np\u001B[38;5;241m.\u001B[39masarray(x_normed)\n\u001B[0;32m--> 190\u001B[0m \u001B[38;5;28;43mself\u001B[39;49m\u001B[38;5;241;43m.\u001B[39;49m\u001B[43m_reduce\u001B[49m\u001B[43m(\u001B[49m\u001B[43mx_normed\u001B[49m\u001B[43m,\u001B[49m\u001B[43m \u001B[49m\u001B[43my\u001B[49m\u001B[43m,\u001B[49m\u001B[43m \u001B[49m\u001B[38;5;241;43m*\u001B[39;49m\u001B[38;5;241;43m*\u001B[39;49m\u001B[43mreduce_kws\u001B[49m\u001B[43m)\u001B[49m\n\u001B[1;32m    191\u001B[0m \u001B[38;5;28mself\u001B[39m\u001B[38;5;241m.\u001B[39mind_ \u001B[38;5;241m=\u001B[39m np\u001B[38;5;241m.\u001B[39mabs(\u001B[38;5;28mself\u001B[39m\u001B[38;5;241m.\u001B[39mcoef_) \u001B[38;5;241m>\u001B[39m \u001B[38;5;241m1e-14\u001B[39m\n\u001B[1;32m    193\u001B[0m \u001B[38;5;28;01mif\u001B[39;00m \u001B[38;5;28mself\u001B[39m\u001B[38;5;241m.\u001B[39munbias:\n",
      "File \u001B[0;32m~/git_repos/pysindy/pysindy/optimizers/adam_stlsq.py:288\u001B[0m, in \u001B[0;36madam_STLSQ._reduce\u001B[0;34m(self, x, y)\u001B[0m\n\u001B[1;32m    283\u001B[0m mom_i \u001B[38;5;241m=\u001B[39m \u001B[38;5;28mself\u001B[39m\u001B[38;5;241m.\u001B[39m_updated_momentum(n_features, ind[i], coef_i, \u001B[38;5;28mself\u001B[39m\u001B[38;5;241m.\u001B[39mmom_history[\u001B[38;5;241m-\u001B[39m\u001B[38;5;241m1\u001B[39m][i]) \\\n\u001B[1;32m    284\u001B[0m     \u001B[38;5;28;01mif\u001B[39;00m k \u001B[38;5;241m>\u001B[39m\u001B[38;5;241m=\u001B[39m \u001B[38;5;28mself\u001B[39m\u001B[38;5;241m.\u001B[39mmom_init_iter \u001B[38;5;28;01melse\u001B[39;00m np\u001B[38;5;241m.\u001B[39mcopy(coef_i)\n\u001B[1;32m    286\u001B[0m \u001B[38;5;28;01mif\u001B[39;00m \u001B[38;5;28mself\u001B[39m\u001B[38;5;241m.\u001B[39mmom_inplace:\n\u001B[0;32m--> 288\u001B[0m     coef_i, ind_i \u001B[38;5;241m=\u001B[39m \u001B[38;5;28;43mself\u001B[39;49m\u001B[38;5;241;43m.\u001B[39;49m\u001B[43m_sparse_coefficients\u001B[49m\u001B[43m(\u001B[49m\n\u001B[1;32m    289\u001B[0m \u001B[43m        \u001B[49m\u001B[43mn_features\u001B[49m\u001B[43m,\u001B[49m\u001B[43m \u001B[49m\u001B[43mnp\u001B[49m\u001B[38;5;241;43m.\u001B[39;49m\u001B[43marange\u001B[49m\u001B[43m(\u001B[49m\u001B[43mn_features\u001B[49m\u001B[43m)\u001B[49m\u001B[43m,\u001B[49m\u001B[43m \u001B[49m\u001B[43mmom_i\u001B[49m\u001B[43m,\u001B[49m\u001B[43m \u001B[49m\u001B[38;5;28;43mself\u001B[39;49m\u001B[38;5;241;43m.\u001B[39;49m\u001B[43mthreshold\u001B[49m\n\u001B[1;32m    290\u001B[0m \u001B[43m    \u001B[49m\u001B[43m)\u001B[49m\n\u001B[1;32m    291\u001B[0m     mom_i \u001B[38;5;241m=\u001B[39m np\u001B[38;5;241m.\u001B[39mcopy(coef_i)\n\u001B[1;32m    292\u001B[0m \u001B[38;5;28;01melse\u001B[39;00m:\n",
      "File \u001B[0;32m~/git_repos/pysindy/pysindy/optimizers/adam_stlsq.py:162\u001B[0m, in \u001B[0;36madam_STLSQ._sparse_coefficients\u001B[0;34m(self, dim, ind_nonzero, coef, threshold)\u001B[0m\n\u001B[1;32m    159\u001B[0m c[ind_nonzero] \u001B[38;5;241m=\u001B[39m coef\n\u001B[1;32m    160\u001B[0m \u001B[38;5;66;03m#Manu Note: this is where the thresholding is happening, we an add the adaptive\u001B[39;00m\n\u001B[1;32m    161\u001B[0m \u001B[38;5;66;03m# thresholding step here.\u001B[39;00m\n\u001B[0;32m--> 162\u001B[0m \u001B[38;5;28;01massert\u001B[39;00m dim \u001B[38;5;241m==\u001B[39m \u001B[38;5;28;43mlen\u001B[39;49m\u001B[43m(\u001B[49m\u001B[43mthreshold\u001B[49m\u001B[43m)\u001B[49m, (\u001B[38;5;124m\"\u001B[39m\u001B[38;5;124mLength of threshold vector not same as the \u001B[39m\u001B[38;5;124m\"\u001B[39m\n\u001B[1;32m    163\u001B[0m                                \u001B[38;5;124m\"\u001B[39m\u001B[38;5;124mlength of the feature library\u001B[39m\u001B[38;5;124m\"\u001B[39m)\n\u001B[1;32m    166\u001B[0m big_ind \u001B[38;5;241m=\u001B[39m np\u001B[38;5;241m.\u001B[39mabs(c) \u001B[38;5;241m>\u001B[39m\u001B[38;5;241m=\u001B[39m threshold\n\u001B[1;32m    168\u001B[0m \u001B[38;5;28;01mif\u001B[39;00m \u001B[38;5;28mself\u001B[39m\u001B[38;5;241m.\u001B[39msparse_ind \u001B[38;5;129;01mis\u001B[39;00m \u001B[38;5;129;01mnot\u001B[39;00m \u001B[38;5;28;01mNone\u001B[39;00m:\n",
      "\u001B[0;31mTypeError\u001B[0m: object of type 'float' has no len()"
     ]
    }
   ],
   "source": [
    "import sys\n",
    "sys.path.insert(0,\"/Users/manujayadharan/git_repos/pysindy\")\n",
    "\n",
    "\n",
    "\n",
    "import pysindy\n",
    "import numpy as np\n",
    "from scipy.integrate import odeint\n",
    "from pysindy import SINDy\n",
    "from pysindy.optimizers import STLSQ\n",
    "from sklearn.metrics import mean_squared_error\n",
    "lorenz = lambda z,t : [10*(z[1] - z[0]),\n",
    "                        z[0]*(28 - z[2]) - z[1],for \n",
    "                        z[0]*z[1] - 8/3*z[2]]\n",
    "t = np.arange(0,2,.002)\n",
    "x = odeint(lorenz, [-8,8,27], t)\n",
    "noise = 1\n",
    "threshold = 0.2\n",
    "\n",
    "rmse = mean_squared_error(x, np.zeros(x.shape), squared=False)\n",
    "x = x + np.random.normal(0, noise*rmse / 100.0, x.shape)\n",
    "opt = STLSQ(threshold=threshold, alpha=.5)\n",
    "model = SINDy(optimizer=opt)\n",
    "model.fit(x, t=t[1]-t[0])\n",
    "print(\"STLSQ optimizer....\")\n",
    "model.print()\n",
    "\n",
    "\n",
    "import pysindy as ps\n",
    "opt_adam = ps.optimizers.adam_STLSQ(threshold=threshold, alpha=.5, mom_init_iter=1, mom_memory=0.1, use_mom=True, mom_inplace=True,)\n",
    "model_2 = SINDy(opt_adam)\n",
    "model_2.fit(x, t=t[1]-t[0])\n",
    "print(\" adam-STLSQ optimizer....\")\n",
    "\n",
    "\n",
    "\n",
    "model_2.print()"
   ]
  },
  {
   "cell_type": "code",
   "execution_count": 127,
   "id": "43665c0da4853799",
   "metadata": {
    "ExecuteTime": {
     "end_time": "2023-10-20T03:08:37.958514Z",
     "start_time": "2023-10-20T03:08:37.952648Z"
    },
    "collapsed": false
   },
   "outputs": [],
   "source": [
    "mom_history = np.array(opt_adam.mom_history)\n",
    "opt_history_adam  = np.array(opt_adam.history_)\n",
    "opt_history_orig = np.array(opt.history_)"
   ]
  },
  {
   "cell_type": "code",
   "execution_count": 14,
   "id": "19a5fd12fde161d2",
   "metadata": {
    "ExecuteTime": {
     "end_time": "2023-10-20T02:28:27.234175Z",
     "start_time": "2023-10-20T02:28:27.226199Z"
    },
    "collapsed": false
   },
   "outputs": [
    {
     "data": {
      "text/plain": [
       "array([[ 0.        , -0.08910723,  0.06154257,  0.        ,  0.        ,\n",
       "         0.        ,  0.        ,  0.        ,  0.        ,  0.        ],\n",
       "       [ 1.0896035 ,  0.16332667,  0.        ,  0.        ,  0.        ,\n",
       "         0.        ,  0.        ,  0.        ,  0.        ,  0.        ],\n",
       "       [ 0.        ,  0.        ,  0.        , -0.00351503,  0.        ,\n",
       "         0.        ,  0.        ,  0.        ,  0.        ,  0.        ]])"
      ]
     },
     "execution_count": 14,
     "metadata": {},
     "output_type": "execute_result"
    }
   ],
   "source": [
    "opt_history_orig[1] - opt_history[1]"
   ]
  },
  {
   "cell_type": "code",
   "execution_count": 12,
   "id": "c56de708a37deace",
   "metadata": {
    "ExecuteTime": {
     "end_time": "2023-10-20T02:28:04.839067Z",
     "start_time": "2023-10-20T02:28:04.833942Z"
    },
    "collapsed": false
   },
   "outputs": [
    {
     "data": {
      "text/plain": [
       "array([[-9.64895569e-03, -1.00046478e+01,  1.00038374e+01,\n",
       "         7.65369398e-04, -3.15852085e-05, -2.93120448e-05,\n",
       "         1.73525249e-04, -4.87091503e-05, -1.05165499e-04,\n",
       "        -1.60698340e-05],\n",
       "       [ 2.26880766e-02,  2.79944495e+01, -9.93575835e-01,\n",
       "        -3.40276264e-03,  3.26828868e-06,  1.06618345e-03,\n",
       "        -1.00014295e+00, -6.94384821e-04, -1.22218320e-04,\n",
       "         1.35248892e-04],\n",
       "       [-8.19281886e-02, -7.79668615e-03,  1.14104022e-02,\n",
       "        -2.65831213e+00,  6.78705151e-04,  1.00008079e+00,\n",
       "         2.77464075e-04, -3.19445037e-04, -5.14789205e-04,\n",
       "        -2.08940175e-04]])"
      ]
     },
     "execution_count": 12,
     "metadata": {},
     "output_type": "execute_result"
    }
   ],
   "source": [
    "opt_history[0]"
   ]
  },
  {
   "cell_type": "code",
   "execution_count": 5,
   "id": "a322c0fc92a86c35",
   "metadata": {
    "ExecuteTime": {
     "end_time": "2023-10-20T02:19:09.632381Z",
     "start_time": "2023-10-20T02:19:09.624275Z"
    },
    "collapsed": false
   },
   "outputs": [
    {
     "data": {
      "text/plain": [
       "array([[[ 0.        , -9.78300458,  9.84825416,  0.        ,\n",
       "          0.        ,  0.        ,  0.        ,  0.        ,\n",
       "          0.        ,  0.        ],\n",
       "        [-1.0896035 , 27.59312918,  0.        ,  0.        ,\n",
       "          0.        ,  0.        ,  0.        ,  0.        ,\n",
       "          0.        ,  0.        ],\n",
       "        [ 0.        ,  0.        ,  0.        , -2.64817514,\n",
       "          0.        ,  0.        ,  0.        ,  0.        ,\n",
       "          0.        ,  0.        ]],\n",
       "\n",
       "       [[ 0.        , -9.99861773,  9.99871428,  0.        ,\n",
       "          0.        ,  0.        ,  0.        ,  0.        ,\n",
       "          0.        ,  0.        ],\n",
       "        [40.35281685, -6.44990851,  0.        ,  0.        ,\n",
       "          0.        ,  0.        ,  0.        ,  0.        ,\n",
       "          0.        ,  0.        ],\n",
       "        [ 0.        ,  0.        ,  0.        ,  0.        ,\n",
       "          0.        ,  0.        ,  0.        ,  0.        ,\n",
       "          0.        ,  0.        ]],\n",
       "\n",
       "       [[ 0.        , -9.99861773,  9.99871428,  0.        ,\n",
       "          0.        ,  0.        ,  0.        ,  0.        ,\n",
       "          0.        ,  0.        ],\n",
       "        [40.35281685, -6.44990851,  0.        ,  0.        ,\n",
       "          0.        ,  0.        ,  0.        ,  0.        ,\n",
       "          0.        ,  0.        ],\n",
       "        [ 0.        ,  0.        ,  0.        ,  0.        ,\n",
       "          0.        ,  0.        ,  0.        ,  0.        ,\n",
       "          0.        ,  0.        ]]])"
      ]
     },
     "execution_count": 5,
     "metadata": {},
     "output_type": "execute_result"
    }
   ],
   "source": [
    "mom_history"
   ]
  },
  {
   "cell_type": "code",
   "execution_count": 14,
   "id": "d79ddccf9ff6bc66",
   "metadata": {
    "ExecuteTime": {
     "end_time": "2023-10-20T01:41:11.667790Z",
     "start_time": "2023-10-20T01:41:11.658454Z"
    },
    "collapsed": false
   },
   "outputs": [],
   "source": [
    "mom_arr = opt_history[1]"
   ]
  },
  {
   "cell_type": "code",
   "execution_count": 15,
   "id": "9f9fef61512e45e",
   "metadata": {
    "ExecuteTime": {
     "end_time": "2023-10-20T01:42:05.555325Z",
     "start_time": "2023-10-20T01:42:05.531429Z"
    },
    "collapsed": false
   },
   "outputs": [
    {
     "name": "stdout",
     "output_type": "stream",
     "text": [
      "[[ 0.42182376 -9.88482832  9.91871652  0.          0.          0.\n",
      "   0.          0.          0.          0.        ]\n",
      " [-0.66011401 27.77893223 -0.86523902  0.          0.          0.\n",
      "  -0.99366825  0.          0.          0.        ]\n",
      " [-0.12055897  0.          0.         -2.65317526  0.          0.99991043\n",
      "   0.          0.          0.          0.        ]]\n",
      "[[ 0.37964138 -9.89625538  9.92675649  0.          0.          0.\n",
      "   0.          0.          0.          0.        ]\n",
      " [-0.5941026  27.79942442 -0.87834928  0.          0.          0.\n",
      "  -0.99425949  0.          0.          0.        ]\n",
      " [-0.10850308  0.          0.         -2.65450322  0.          0.99990956\n",
      "   0.          0.          0.          0.        ]]\n"
     ]
    }
   ],
   "source": [
    "for ind in range(2,4):\n",
    "    mom_arr = 0.9 * mom_arr + 0.1*opt_history[ind]\n",
    "    print(mom_arr)"
   ]
  },
  {
   "cell_type": "code",
   "execution_count": 17,
   "id": "753c959e7e6e7710",
   "metadata": {
    "ExecuteTime": {
     "end_time": "2023-10-20T01:44:15.772113Z",
     "start_time": "2023-10-20T01:44:15.759202Z"
    },
    "collapsed": false
   },
   "outputs": [
    {
     "name": "stdout",
     "output_type": "stream",
     "text": [
      "[[[ 0.42213436 -9.88482832  9.91871652  0.          0.\n",
      "    0.          0.          0.          0.          0.        ]\n",
      "  [-0.6587641  27.77893223 -0.86523902  0.          0.\n",
      "    0.         -0.99366825  0.          0.          0.        ]\n",
      "  [-0.12034068  0.          0.         -2.65317526  0.\n",
      "    0.99991043  0.          0.          0.          0.        ]]\n",
      "\n",
      " [[ 0.37992092 -9.89625538  9.92675649  0.          0.\n",
      "    0.          0.          0.          0.          0.        ]\n",
      "  [-0.59288769 27.79942442 -0.87834928  0.          0.\n",
      "    0.         -0.99425949  0.          0.          0.        ]\n",
      "  [-0.10830661  0.          0.         -2.65450322  0.\n",
      "    0.99990956  0.          0.          0.          0.        ]]]\n"
     ]
    }
   ],
   "source": [
    "print(np.where(abs(mom_history) > 0.1, mom_history, 0.)[1:])"
   ]
  },
  {
   "cell_type": "code",
   "execution_count": 18,
   "id": "a2dcfe2080a3c593",
   "metadata": {
    "ExecuteTime": {
     "end_time": "2023-10-20T01:46:10.298970Z",
     "start_time": "2023-10-20T01:46:10.295832Z"
    },
    "collapsed": false
   },
   "outputs": [
    {
     "data": {
      "text/plain": [
       "array([[[ 0.        , -9.99927692,  9.99899463,  0.        ,\n",
       "          0.        ,  0.        ,  0.        ,  0.        ,\n",
       "          0.        ,  0.        ],\n",
       "        [ 0.        , 27.9812197 , -0.99643931,  0.        ,\n",
       "          0.        ,  0.        , -0.99953274,  0.        ,\n",
       "          0.        ,  0.        ],\n",
       "        [ 0.        ,  0.        ,  0.        , -2.66654099,\n",
       "          0.        ,  0.99990241,  0.        ,  0.        ,\n",
       "          0.        ,  0.        ]],\n",
       "\n",
       "       [[ 0.        , -9.99909897,  9.9991162 ,  0.        ,\n",
       "          0.        ,  0.        ,  0.        ,  0.        ,\n",
       "          0.        ,  0.        ],\n",
       "        [ 0.        , 27.9838541 , -0.99634161,  0.        ,\n",
       "          0.        ,  0.        , -0.99958066,  0.        ,\n",
       "          0.        ,  0.        ],\n",
       "        [ 0.        ,  0.        ,  0.        , -2.66645487,\n",
       "          0.        ,  0.9999017 ,  0.        ,  0.        ,\n",
       "          0.        ,  0.        ]]])"
      ]
     },
     "execution_count": 18,
     "metadata": {},
     "output_type": "execute_result"
    }
   ],
   "source": [
    "opt_history[-2:]"
   ]
  },
  {
   "cell_type": "code",
   "execution_count": 2,
   "id": "605c8ff3-2980-4ecb-9bfd-3041c7bf02be",
   "metadata": {},
   "outputs": [
    {
     "data": {
      "text/plain": [
       "array([0, 1, 2, 3, 4, 5, 6, 7, 8, 9])"
      ]
     },
     "execution_count": 2,
     "metadata": {},
     "output_type": "execute_result"
    }
   ],
   "source": [
    "np.arange(10)"
   ]
  },
  {
   "cell_type": "code",
   "execution_count": 22,
   "id": "b911250c-bc41-40da-a9f8-a2c7b75d7605",
   "metadata": {},
   "outputs": [],
   "source": [
    "a = np.array([-11,-2,3,-10,3,-100,11])"
   ]
  },
  {
   "cell_type": "code",
   "execution_count": 23,
   "id": "b46a3978-8bb1-440b-83b0-e058387d9a07",
   "metadata": {},
   "outputs": [],
   "source": [
    "big_ind = np.abs(a) >= [-11,-2,100,100,100,100,100]"
   ]
  },
  {
   "cell_type": "code",
   "execution_count": 24,
   "id": "638f5e32-57e6-4ef7-8e6b-7ce2ed5393f6",
   "metadata": {},
   "outputs": [
    {
     "data": {
      "text/plain": [
       "array([1., 1., 1., 1., 1., 1., 1.])"
      ]
     },
     "execution_count": 24,
     "metadata": {},
     "output_type": "execute_result"
    }
   ],
   "source": [
    "np.ones(a.size)"
   ]
  },
  {
   "cell_type": "code",
   "execution_count": 25,
   "id": "0a5cbba8-dac1-428e-8ea8-defe22b98f0b",
   "metadata": {},
   "outputs": [],
   "source": [
    "a[~big_ind] = 0"
   ]
  },
  {
   "cell_type": "code",
   "execution_count": 26,
   "id": "65f95ee5-745e-4d6d-9232-7ef7ab86bfc3",
   "metadata": {},
   "outputs": [
    {
     "data": {
      "text/plain": [
       "array([ -11,   -2,    0,    0,    0, -100,    0])"
      ]
     },
     "execution_count": 26,
     "metadata": {},
     "output_type": "execute_result"
    }
   ],
   "source": [
    "a"
   ]
  },
  {
   "cell_type": "code",
   "execution_count": null,
   "id": "ba70d291-1cae-42ca-9504-6f722624439c",
   "metadata": {},
   "outputs": [],
   "source": []
  }
 ],
 "metadata": {
  "kernelspec": {
   "display_name": "Python 3 (ipykernel)",
   "language": "python",
   "name": "python3"
  },
  "language_info": {
   "codemirror_mode": {
    "name": "ipython",
    "version": 3
   },
   "file_extension": ".py",
   "mimetype": "text/x-python",
   "name": "python",
   "nbconvert_exporter": "python",
   "pygments_lexer": "ipython3",
   "version": "3.11.5"
  }
 },
 "nbformat": 4,
 "nbformat_minor": 5
}
